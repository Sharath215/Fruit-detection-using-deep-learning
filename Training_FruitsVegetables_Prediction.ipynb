{
  "nbformat": 4,
  "nbformat_minor": 0,
  "metadata": {
    "colab": {
      "provenance": [],
      "gpuType": "V28"
    },
    "kernelspec": {
      "name": "python3",
      "display_name": "Python 3"
    },
    "language_info": {
      "name": "python"
    },
    "accelerator": "TPU"
  },
  "cells": [
    {
      "cell_type": "markdown",
      "source": [
        "# Mounting the drive to Runtime environment"
      ],
      "metadata": {
        "id": "0CApxrVRmG0-"
      }
    },
    {
      "cell_type": "code",
      "source": [
        ""
      ],
      "metadata": {
        "id": "Bzj_JXKExe05"
      },
      "execution_count": 3,
      "outputs": []
    },
    {
      "cell_type": "markdown",
      "source": [
        "Importing Libraries"
      ],
      "metadata": {
        "id": "EDwD7SFDmqi5"
      }
    },
    {
      "cell_type": "code",
      "source": [
        "import numpy as np\n",
        "from google.colab import drive\n",
        "import tensorflow as tf\n",
        "import matplotlib.pyplot as plt\n",
        "from tensorflow import keras"
      ],
      "metadata": {
        "id": "iHm4m4YWmgeP"
      },
      "execution_count": 1,
      "outputs": []
    },
    {
      "cell_type": "code",
      "source": [
        "drive.mount('/content/drive')"
      ],
      "metadata": {
        "colab": {
          "base_uri": "https://localhost:8080/"
        },
        "id": "vVb0IATd_nar",
        "outputId": "1ed941bf-e1c9-4914-ab59-4c2e9b94273f"
      },
      "execution_count": 3,
      "outputs": [
        {
          "output_type": "stream",
          "name": "stdout",
          "text": [
            "Mounted at /content/drive\n"
          ]
        }
      ]
    },
    {
      "cell_type": "markdown",
      "source": [
        "Data Preprocessing\n",
        "\n",
        "Train data and validation data is for training the model\n",
        "\n",
        "Test data is for evaluating final tunned model"
      ],
      "metadata": {
        "id": "cwGmAtCanCVL"
      }
    },
    {
      "cell_type": "markdown",
      "source": [
        "##Training image preprocessing"
      ],
      "metadata": {
        "id": "8ZlDnfd0nl1M"
      }
    },
    {
      "cell_type": "code",
      "source": [
        "training_set = tf.keras.utils.image_dataset_from_directory(\n",
        "    '/content/drive/MyDrive/Fruit_Vegetable_detection/train',\n",
        "    labels=\"inferred\", # images are placed in a driectory formet in Drive\n",
        "    label_mode=\"categorical\", # he labe is the name of the fruit / Vegetables\n",
        "    class_names=None,\n",
        "    color_mode=\"rgb\",\n",
        "    batch_size=32,\n",
        "    image_size=(64, 64),\n",
        "    shuffle=True,\n",
        "    seed=None,\n",
        "    validation_split=None,\n",
        "    subset=None,\n",
        "    interpolation=\"bilinear\",\n",
        "    follow_links=False,\n",
        "    crop_to_aspect_ratio=False\n",
        ")"
      ],
      "metadata": {
        "colab": {
          "base_uri": "https://localhost:8080/"
        },
        "id": "9OZrJuFpm2x_",
        "outputId": "16bdcf3d-5a52-4c38-e4bd-eee5719f1287"
      },
      "execution_count": 2,
      "outputs": [
        {
          "output_type": "stream",
          "name": "stdout",
          "text": [
            "Found 3115 files belonging to 36 classes.\n"
          ]
        }
      ]
    },
    {
      "cell_type": "markdown",
      "source": [
        "Validation image Preprocessing"
      ],
      "metadata": {
        "id": "7V1xCVL9r13Q"
      }
    },
    {
      "cell_type": "code",
      "source": [
        "validation_set = keras.utils.image_dataset_from_directory(\n",
        "    '/content/drive/MyDrive/Fruit_Vegetable_detection/validation',\n",
        "    labels=\"inferred\", # images are placed in a driectory formet in Drive\n",
        "    label_mode=\"categorical\", # he labe is the name of the fruit / Vegetables\n",
        "    class_names=None,\n",
        "    color_mode=\"rgb\",\n",
        "    batch_size=32,\n",
        "    image_size=(64, 64),\n",
        "    shuffle=True,\n",
        "    seed=None,\n",
        "    validation_split=None,\n",
        "    subset=None,\n",
        "    interpolation=\"bilinear\",\n",
        "    follow_links=False,\n",
        "    crop_to_aspect_ratio=False,\n",
        "\n",
        ")"
      ],
      "metadata": {
        "colab": {
          "base_uri": "https://localhost:8080/"
        },
        "id": "5YTS03vhrIVG",
        "outputId": "694b8954-61ad-44b8-dea9-c286f9cc4f1c"
      },
      "execution_count": 3,
      "outputs": [
        {
          "output_type": "stream",
          "name": "stdout",
          "text": [
            "Found 351 files belonging to 36 classes.\n"
          ]
        }
      ]
    },
    {
      "cell_type": "code",
      "source": [
        "validation_set"
      ],
      "metadata": {
        "colab": {
          "base_uri": "https://localhost:8080/"
        },
        "id": "C5DQD4gtsqgU",
        "outputId": "62afb97c-0b14-43ac-e3c0-668291e227c7"
      },
      "execution_count": 4,
      "outputs": [
        {
          "output_type": "execute_result",
          "data": {
            "text/plain": [
              "<_PrefetchDataset element_spec=(TensorSpec(shape=(None, 64, 64, 3), dtype=tf.float32, name=None), TensorSpec(shape=(None, 36), dtype=tf.float32, name=None))>"
            ]
          },
          "metadata": {},
          "execution_count": 4
        }
      ]
    },
    {
      "cell_type": "markdown",
      "source": [
        "## Buliding the Model and convolution Layer"
      ],
      "metadata": {
        "id": "4BPDAt5KNg5G"
      }
    },
    {
      "cell_type": "code",
      "source": [
        "cnn = tf.keras.models.Sequential()\n",
        "\n",
        "# this snippet creates an instance of the sequential model.\n",
        "#using keras API from tensorflorw"
      ],
      "metadata": {
        "id": "xbs6Gh0stg52"
      },
      "execution_count": 5,
      "outputs": []
    },
    {
      "cell_type": "code",
      "source": [
        "cnn.add(tf.keras.layers.Conv2D(filters=32,kernel_size=3,activation='relu',input_shape=[64,64,3]))\n",
        "cnn.add(tf.keras.layers.Conv2D(filters=64,kernel_size=3,activation='relu'))\n",
        "cnn.add(tf.keras.layers.MaxPool2D(pool_size=2,strides=2))"
      ],
      "metadata": {
        "id": "0w7ADMJfNu5M"
      },
      "execution_count": 6,
      "outputs": []
    },
    {
      "cell_type": "code",
      "source": [
        "cnn.add(tf.keras.layers.Conv2D(filters=128,kernel_size=3,activation='relu'))\n",
        "cnn.add(tf.keras.layers.Conv2D(filters=256,kernel_size=3,activation='relu'))\n",
        "cnn.add(tf.keras.layers.MaxPool2D(pool_size=2,strides=2))"
      ],
      "metadata": {
        "id": "ghY-_XtUO5wB"
      },
      "execution_count": 7,
      "outputs": []
    },
    {
      "cell_type": "code",
      "source": [
        "cnn.add(tf.keras.layers.Flatten())"
      ],
      "metadata": {
        "id": "releaKtkPLD8"
      },
      "execution_count": 8,
      "outputs": []
    },
    {
      "cell_type": "code",
      "source": [
        "cnn.add(tf.keras.layers.Dense(units=512,activation='relu'))\n"
      ],
      "metadata": {
        "id": "oyCQrX2lPRxn"
      },
      "execution_count": 9,
      "outputs": []
    },
    {
      "cell_type": "code",
      "source": [
        "cnn.add(tf.keras.layers.Dense(units=256,activation='relu'))\n"
      ],
      "metadata": {
        "id": "I6gY-a2n-fmo"
      },
      "execution_count": 10,
      "outputs": []
    },
    {
      "cell_type": "code",
      "source": [
        "cnn.add(tf.keras.layers.Dropout(0.5))\n",
        "\n",
        "# that 36 indicated the number of classes in the output layer"
      ],
      "metadata": {
        "id": "orZhpZcg-jC3"
      },
      "execution_count": 11,
      "outputs": []
    },
    {
      "cell_type": "code",
      "source": [
        "cnn.add(tf.keras.layers.Dense(units=36,activation='softmax'))\n",
        "\n"
      ],
      "metadata": {
        "id": "P_-ixAya-hlC"
      },
      "execution_count": 12,
      "outputs": []
    },
    {
      "cell_type": "code",
      "source": [
        "cnn.summary()"
      ],
      "metadata": {
        "colab": {
          "base_uri": "https://localhost:8080/"
        },
        "id": "aiYPeSkc8BUo",
        "outputId": "171dceee-cb29-4311-d667-a3238bebc44e"
      },
      "execution_count": 13,
      "outputs": [
        {
          "output_type": "stream",
          "name": "stdout",
          "text": [
            "Model: \"sequential\"\n",
            "_________________________________________________________________\n",
            " Layer (type)                Output Shape              Param #   \n",
            "=================================================================\n",
            " conv2d (Conv2D)             (None, 62, 62, 32)        896       \n",
            "                                                                 \n",
            " conv2d_1 (Conv2D)           (None, 60, 60, 64)        18496     \n",
            "                                                                 \n",
            " max_pooling2d (MaxPooling2  (None, 30, 30, 64)        0         \n",
            " D)                                                              \n",
            "                                                                 \n",
            " conv2d_2 (Conv2D)           (None, 28, 28, 128)       73856     \n",
            "                                                                 \n",
            " conv2d_3 (Conv2D)           (None, 26, 26, 256)       295168    \n",
            "                                                                 \n",
            " max_pooling2d_1 (MaxPoolin  (None, 13, 13, 256)       0         \n",
            " g2D)                                                            \n",
            "                                                                 \n",
            " flatten (Flatten)           (None, 43264)             0         \n",
            "                                                                 \n",
            " dense (Dense)               (None, 512)               22151680  \n",
            "                                                                 \n",
            " dense_1 (Dense)             (None, 256)               131328    \n",
            "                                                                 \n",
            " dropout (Dropout)           (None, 256)               0         \n",
            "                                                                 \n",
            " dense_2 (Dense)             (None, 36)                9252      \n",
            "                                                                 \n",
            "=================================================================\n",
            "Total params: 22680676 (86.52 MB)\n",
            "Trainable params: 22680676 (86.52 MB)\n",
            "Non-trainable params: 0 (0.00 Byte)\n",
            "_________________________________________________________________\n"
          ]
        }
      ]
    },
    {
      "cell_type": "markdown",
      "source": [
        "## Compilation and Training"
      ],
      "metadata": {
        "id": "u375qVRFXcoo"
      }
    },
    {
      "cell_type": "code",
      "source": [
        "cnn.compile(optimizer='adam',loss='categorical_crossentropy',metrics=['accuracy'])"
      ],
      "metadata": {
        "id": "Qjsua_R1PtVR"
      },
      "execution_count": 14,
      "outputs": []
    },
    {
      "cell_type": "code",
      "source": [
        "training_history = cnn.fit(x=training_set,validation_data=validation_set,epochs=30,shuffle=True,)"
      ],
      "metadata": {
        "colab": {
          "base_uri": "https://localhost:8080/"
        },
        "id": "N22KQOHaXu4A",
        "outputId": "eea15edd-ccd3-425f-8b28-1ac9231433bf"
      },
      "execution_count": 15,
      "outputs": [
        {
          "output_type": "stream",
          "name": "stdout",
          "text": [
            "Epoch 1/30\n",
            "98/98 [==============================] - 47s 441ms/step - loss: 10.4081 - accuracy: 0.0392 - val_loss: 3.4431 - val_accuracy: 0.0627\n",
            "Epoch 2/30\n",
            "98/98 [==============================] - 33s 318ms/step - loss: 3.4322 - accuracy: 0.0626 - val_loss: 3.4449 - val_accuracy: 0.0997\n",
            "Epoch 3/30\n",
            "98/98 [==============================] - 24s 232ms/step - loss: 3.3596 - accuracy: 0.0677 - val_loss: 3.1095 - val_accuracy: 0.1368\n",
            "Epoch 4/30\n",
            "98/98 [==============================] - 24s 231ms/step - loss: 3.2122 - accuracy: 0.0928 - val_loss: 2.8453 - val_accuracy: 0.1994\n",
            "Epoch 5/30\n",
            "98/98 [==============================] - 24s 230ms/step - loss: 3.0938 - accuracy: 0.1339 - val_loss: 2.6937 - val_accuracy: 0.2735\n",
            "Epoch 6/30\n",
            "98/98 [==============================] - 24s 231ms/step - loss: 2.8921 - accuracy: 0.1843 - val_loss: 2.4252 - val_accuracy: 0.3390\n",
            "Epoch 7/30\n",
            "98/98 [==============================] - 25s 236ms/step - loss: 2.7106 - accuracy: 0.2446 - val_loss: 2.1750 - val_accuracy: 0.4587\n",
            "Epoch 8/30\n",
            "98/98 [==============================] - 25s 235ms/step - loss: 2.4732 - accuracy: 0.3120 - val_loss: 2.0607 - val_accuracy: 0.4900\n",
            "Epoch 9/30\n",
            "98/98 [==============================] - 24s 231ms/step - loss: 2.2109 - accuracy: 0.3705 - val_loss: 1.6412 - val_accuracy: 0.5783\n",
            "Epoch 10/30\n",
            "98/98 [==============================] - 24s 232ms/step - loss: 1.9876 - accuracy: 0.4421 - val_loss: 1.5942 - val_accuracy: 0.5926\n",
            "Epoch 11/30\n",
            "98/98 [==============================] - 24s 231ms/step - loss: 1.8142 - accuracy: 0.4815 - val_loss: 1.2645 - val_accuracy: 0.7009\n",
            "Epoch 12/30\n",
            "98/98 [==============================] - 24s 230ms/step - loss: 1.5622 - accuracy: 0.5621 - val_loss: 1.1072 - val_accuracy: 0.7521\n",
            "Epoch 13/30\n",
            "98/98 [==============================] - 24s 230ms/step - loss: 1.3566 - accuracy: 0.6132 - val_loss: 1.1856 - val_accuracy: 0.7379\n",
            "Epoch 14/30\n",
            "98/98 [==============================] - 24s 230ms/step - loss: 1.2858 - accuracy: 0.6360 - val_loss: 1.0587 - val_accuracy: 0.7835\n",
            "Epoch 15/30\n",
            "98/98 [==============================] - 24s 229ms/step - loss: 1.1080 - accuracy: 0.6953 - val_loss: 0.8578 - val_accuracy: 0.8376\n",
            "Epoch 16/30\n",
            "98/98 [==============================] - 24s 232ms/step - loss: 1.0049 - accuracy: 0.7268 - val_loss: 0.8232 - val_accuracy: 0.8433\n",
            "Epoch 17/30\n",
            "98/98 [==============================] - 24s 232ms/step - loss: 0.8623 - accuracy: 0.7628 - val_loss: 0.7924 - val_accuracy: 0.8632\n",
            "Epoch 18/30\n",
            "98/98 [==============================] - 24s 231ms/step - loss: 0.7829 - accuracy: 0.7778 - val_loss: 0.7767 - val_accuracy: 0.8746\n",
            "Epoch 19/30\n",
            "98/98 [==============================] - 24s 232ms/step - loss: 0.7926 - accuracy: 0.7804 - val_loss: 0.8872 - val_accuracy: 0.8575\n",
            "Epoch 20/30\n",
            "98/98 [==============================] - 24s 232ms/step - loss: 0.8175 - accuracy: 0.7769 - val_loss: 0.7965 - val_accuracy: 0.8860\n",
            "Epoch 21/30\n",
            "98/98 [==============================] - 24s 231ms/step - loss: 0.6415 - accuracy: 0.8270 - val_loss: 0.7186 - val_accuracy: 0.8946\n",
            "Epoch 22/30\n",
            "98/98 [==============================] - 24s 229ms/step - loss: 0.6048 - accuracy: 0.8331 - val_loss: 0.7263 - val_accuracy: 0.8946\n",
            "Epoch 23/30\n",
            "98/98 [==============================] - 24s 233ms/step - loss: 0.5822 - accuracy: 0.8449 - val_loss: 0.6688 - val_accuracy: 0.9117\n",
            "Epoch 24/30\n",
            "98/98 [==============================] - 24s 230ms/step - loss: 0.5430 - accuracy: 0.8543 - val_loss: 0.8705 - val_accuracy: 0.8889\n",
            "Epoch 25/30\n",
            "98/98 [==============================] - 24s 231ms/step - loss: 0.6128 - accuracy: 0.8453 - val_loss: 0.7012 - val_accuracy: 0.9231\n",
            "Epoch 26/30\n",
            "98/98 [==============================] - 24s 230ms/step - loss: 0.4911 - accuracy: 0.8665 - val_loss: 0.6009 - val_accuracy: 0.9259\n",
            "Epoch 27/30\n",
            "98/98 [==============================] - 24s 227ms/step - loss: 0.4532 - accuracy: 0.8796 - val_loss: 0.6902 - val_accuracy: 0.9316\n",
            "Epoch 28/30\n",
            "98/98 [==============================] - 24s 229ms/step - loss: 0.3576 - accuracy: 0.9030 - val_loss: 0.7975 - val_accuracy: 0.9202\n",
            "Epoch 29/30\n",
            "98/98 [==============================] - 24s 230ms/step - loss: 0.4488 - accuracy: 0.8825 - val_loss: 0.7852 - val_accuracy: 0.9003\n",
            "Epoch 30/30\n",
            "98/98 [==============================] - 24s 229ms/step - loss: 0.3808 - accuracy: 0.8973 - val_loss: 0.7814 - val_accuracy: 0.9316\n"
          ]
        }
      ]
    },
    {
      "cell_type": "code",
      "source": [
        "model_save_path = '/content/drive/MyDrive/Fruit_Vegetable_detection/Trained_Model_Fruits_30.h5'\n",
        "\n",
        "cnn.save(model_save_path)"
      ],
      "metadata": {
        "colab": {
          "base_uri": "https://localhost:8080/"
        },
        "id": "98omnCTvY1Xn",
        "outputId": "56c2da1d-f650-43cb-ec39-8568b973d0e2"
      },
      "execution_count": 16,
      "outputs": [
        {
          "output_type": "stream",
          "name": "stderr",
          "text": [
            "/usr/local/lib/python3.10/dist-packages/keras/src/engine/training.py:3103: UserWarning: You are saving your model as an HDF5 file via `model.save()`. This file format is considered legacy. We recommend using instead the native Keras format, e.g. `model.save('my_model.keras')`.\n",
            "  saving_api.save_model(\n"
          ]
        }
      ]
    },
    {
      "cell_type": "code",
      "source": [
        "training_history.history"
      ],
      "metadata": {
        "id": "p8Heo27kvRxk",
        "colab": {
          "base_uri": "https://localhost:8080/"
        },
        "outputId": "30893eb4-1495-4c19-b477-9a5dd63908b3"
      },
      "execution_count": 17,
      "outputs": [
        {
          "output_type": "execute_result",
          "data": {
            "text/plain": [
              "{'loss': [10.408133506774902,\n",
              "  3.4321911334991455,\n",
              "  3.359567165374756,\n",
              "  3.2122292518615723,\n",
              "  3.093837261199951,\n",
              "  2.8921382427215576,\n",
              "  2.710578441619873,\n",
              "  2.4732441902160645,\n",
              "  2.2109413146972656,\n",
              "  1.9875874519348145,\n",
              "  1.8141722679138184,\n",
              "  1.5622104406356812,\n",
              "  1.3566474914550781,\n",
              "  1.285818338394165,\n",
              "  1.1079580783843994,\n",
              "  1.0048998594284058,\n",
              "  0.8623483180999756,\n",
              "  0.7829497456550598,\n",
              "  0.7925713062286377,\n",
              "  0.8174529671669006,\n",
              "  0.6414758563041687,\n",
              "  0.6048106551170349,\n",
              "  0.5821689367294312,\n",
              "  0.5430423617362976,\n",
              "  0.6127986311912537,\n",
              "  0.4910717010498047,\n",
              "  0.4531729519367218,\n",
              "  0.35764801502227783,\n",
              "  0.448772668838501,\n",
              "  0.38078510761260986],\n",
              " 'accuracy': [0.039165329188108444,\n",
              "  0.06260032206773758,\n",
              "  0.06773675978183746,\n",
              "  0.09277688711881638,\n",
              "  0.13386838138103485,\n",
              "  0.18426966667175293,\n",
              "  0.24462279677391052,\n",
              "  0.31203851103782654,\n",
              "  0.370465487241745,\n",
              "  0.4420545697212219,\n",
              "  0.4815409183502197,\n",
              "  0.5621187686920166,\n",
              "  0.613162100315094,\n",
              "  0.6359550356864929,\n",
              "  0.6953451037406921,\n",
              "  0.7268058061599731,\n",
              "  0.7627608180046082,\n",
              "  0.7778491377830505,\n",
              "  0.7804173231124878,\n",
              "  0.7768860459327698,\n",
              "  0.8269662857055664,\n",
              "  0.8330658078193665,\n",
              "  0.8449438214302063,\n",
              "  0.8542535901069641,\n",
              "  0.8452648520469666,\n",
              "  0.8664526343345642,\n",
              "  0.8796147704124451,\n",
              "  0.9030497670173645,\n",
              "  0.8825039863586426,\n",
              "  0.8972712755203247],\n",
              " 'val_loss': [3.4430718421936035,\n",
              "  3.444906711578369,\n",
              "  3.1094980239868164,\n",
              "  2.8452563285827637,\n",
              "  2.693706512451172,\n",
              "  2.425240993499756,\n",
              "  2.174966335296631,\n",
              "  2.060716152191162,\n",
              "  1.6411510705947876,\n",
              "  1.5942457914352417,\n",
              "  1.264513373374939,\n",
              "  1.1072287559509277,\n",
              "  1.1856447458267212,\n",
              "  1.0587321519851685,\n",
              "  0.8578150272369385,\n",
              "  0.8232157826423645,\n",
              "  0.7923790216445923,\n",
              "  0.7767062783241272,\n",
              "  0.8872379064559937,\n",
              "  0.7965243458747864,\n",
              "  0.7186039090156555,\n",
              "  0.7263165712356567,\n",
              "  0.6687989234924316,\n",
              "  0.8704995512962341,\n",
              "  0.7012261748313904,\n",
              "  0.6008546352386475,\n",
              "  0.6901596188545227,\n",
              "  0.7974922060966492,\n",
              "  0.7851940989494324,\n",
              "  0.7814450860023499],\n",
              " 'val_accuracy': [0.06267806142568588,\n",
              "  0.09971509873867035,\n",
              "  0.1367521435022354,\n",
              "  0.1994301974773407,\n",
              "  0.2735042870044708,\n",
              "  0.3390313386917114,\n",
              "  0.45868945121765137,\n",
              "  0.4900285005569458,\n",
              "  0.5783475637435913,\n",
              "  0.5925925970077515,\n",
              "  0.7008547186851501,\n",
              "  0.752136766910553,\n",
              "  0.7378917336463928,\n",
              "  0.7834757566452026,\n",
              "  0.8376068472862244,\n",
              "  0.8433048725128174,\n",
              "  0.8632478713989258,\n",
              "  0.874643862247467,\n",
              "  0.8575498461723328,\n",
              "  0.8860399127006531,\n",
              "  0.8945869207382202,\n",
              "  0.8945869207382202,\n",
              "  0.9116809368133545,\n",
              "  0.8888888955116272,\n",
              "  0.9230769276618958,\n",
              "  0.9259259104728699,\n",
              "  0.9316239356994629,\n",
              "  0.9202279448509216,\n",
              "  0.9002848863601685,\n",
              "  0.9316239356994629]}"
            ]
          },
          "metadata": {},
          "execution_count": 17
        }
      ]
    },
    {
      "cell_type": "code",
      "source": [
        "# recording the history in json\n",
        "\n",
        "import json\n",
        "history_path = \"/content/drive/MyDrive/Fruit_Vegetable_detection/Trained_Model_History_30.json\"\n",
        "with open(history_path,'w') as f:\n",
        "  json.dump(training_history.history,f)\n"
      ],
      "metadata": {
        "id": "K5ZcwoZ2vZou"
      },
      "execution_count": 18,
      "outputs": []
    },
    {
      "cell_type": "code",
      "source": [
        "print(training_history.history.keys()) # gives the keys recorded"
      ],
      "metadata": {
        "colab": {
          "base_uri": "https://localhost:8080/"
        },
        "id": "0S6p2eAvwIko",
        "outputId": "4c410b04-63bb-494b-a513-59e1851e5d14"
      },
      "execution_count": 19,
      "outputs": [
        {
          "output_type": "stream",
          "name": "stdout",
          "text": [
            "dict_keys(['loss', 'accuracy', 'val_loss', 'val_accuracy'])\n"
          ]
        }
      ]
    },
    {
      "cell_type": "markdown",
      "source": [
        "Gives the accuracy obtained from the last epoch"
      ],
      "metadata": {
        "id": "vEwLeeygwgzG"
      }
    },
    {
      "cell_type": "code",
      "source": [
        "print(\"Validation set Accuracy:{} %\".format(training_history.history['val_accuracy'][-1]*100))"
      ],
      "metadata": {
        "colab": {
          "base_uri": "https://localhost:8080/"
        },
        "id": "W3Nj5_ZEwPBn",
        "outputId": "c2b49b1c-9b58-4d74-800d-26284fbd5a9c"
      },
      "execution_count": 20,
      "outputs": [
        {
          "output_type": "stream",
          "name": "stdout",
          "text": [
            "Validation set Accuracy:93.16239356994629 %\n"
          ]
        }
      ]
    },
    {
      "cell_type": "markdown",
      "source": [
        "## Visualization"
      ],
      "metadata": {
        "id": "oiBzGKYJkmt1"
      }
    },
    {
      "cell_type": "markdown",
      "source": [
        "Training Accuracy"
      ],
      "metadata": {
        "id": "3FuaamFtkpPz"
      }
    },
    {
      "cell_type": "code",
      "source": [
        "epochs = [i for i in range(1,31)]\n",
        "plt.plot(epochs, training_history.history['accuracy'], color = \"red\")\n",
        "plt.xlabel(\"No.Of.Epochs\")\n",
        "plt.ylabel(\"Accuracy of training set\")\n",
        "plt.title(\"Training dataset Results\")\n",
        "plt.show()"
      ],
      "metadata": {
        "colab": {
          "base_uri": "https://localhost:8080/",
          "height": 472
        },
        "id": "nv8p93hVkk_E",
        "outputId": "d296d4fe-76bd-45f7-ff36-9180b3d1a98b"
      },
      "execution_count": 21,
      "outputs": [
        {
          "output_type": "display_data",
          "data": {
            "text/plain": [
              "<Figure size 640x480 with 1 Axes>"
            ],
            "image/png": "[encoded data removed]"
          },
          "metadata": {}
        }
      ]
    },
    {
      "cell_type": "code",
      "source": [
        "epochs = [i for i in range(1,31)]\n",
        "plt.plot(epochs, training_history.history['val_accuracy'], color = \"green\")\n",
        "plt.xlabel(\"No.Of.Epochs\")\n",
        "plt.ylabel(\"Accuracy of validation set set\")\n",
        "plt.title(\"Training dataset validation Results\")\n",
        "plt.show()"
      ],
      "metadata": {
        "colab": {
          "base_uri": "https://localhost:8080/",
          "height": 472
        },
        "id": "4h0k1Ozmlmce",
        "outputId": "8550a1bf-b4b0-43ed-e954-3761106b1928"
      },
      "execution_count": 22,
      "outputs": [
        {
          "output_type": "display_data",
          "data": {
            "text/plain": [
              "<Figure size 640x480 with 1 Axes>"
            ],
            "image/png": "[encoded data removed]"
          },
          "metadata": {}
        }
      ]
    },
    {
      "cell_type": "code",
      "source": [
        "drive.flush_and_unmount()"
      ],
      "metadata": {
        "id": "yLVgdyW9nFcT"
      },
      "execution_count": 2,
      "outputs": []
    },
    {
      "cell_type": "code",
      "source": [],
      "metadata": {
        "id": "W5bajPrL_q8Y"
      },
      "execution_count": null,
      "outputs": []
    }
  ]
}